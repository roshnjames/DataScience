{
 "cells": [
  {
   "cell_type": "code",
   "execution_count": 3,
   "metadata": {},
   "outputs": [],
   "source": [
    "import matplotlib.pyplot as plt\n",
    "from sklearn import linear_model\n",
    "import numpy as np\n",
    "from sklearn.model_selection import train_test_split\n",
    "from sklearn.metrics import r2_score,mean_squared_error"
   ]
  },
  {
   "cell_type": "code",
   "execution_count": 13,
   "metadata": {},
   "outputs": [
    {
     "name": "stdout",
     "output_type": "stream",
     "text": [
      "[[0.37454012]\n",
      " [0.95071431]\n",
      " [0.73199394]\n",
      " [0.59865848]\n",
      " [0.15601864]\n",
      " [0.15599452]\n",
      " [0.05808361]\n",
      " [0.86617615]\n",
      " [0.60111501]\n",
      " [0.70807258]\n",
      " [0.02058449]\n",
      " [0.96990985]\n",
      " [0.83244264]\n",
      " [0.21233911]\n",
      " [0.18182497]\n",
      " [0.18340451]\n",
      " [0.30424224]\n",
      " [0.52475643]\n",
      " [0.43194502]\n",
      " [0.29122914]\n",
      " [0.61185289]\n",
      " [0.13949386]\n",
      " [0.29214465]\n",
      " [0.36636184]\n",
      " [0.45606998]\n",
      " [0.78517596]\n",
      " [0.19967378]\n",
      " [0.51423444]\n",
      " [0.59241457]\n",
      " [0.04645041]\n",
      " [0.60754485]\n",
      " [0.17052412]\n",
      " [0.06505159]\n",
      " [0.94888554]\n",
      " [0.96563203]\n",
      " [0.80839735]\n",
      " [0.30461377]\n",
      " [0.09767211]\n",
      " [0.68423303]\n",
      " [0.44015249]\n",
      " [0.12203823]\n",
      " [0.49517691]\n",
      " [0.03438852]\n",
      " [0.9093204 ]\n",
      " [0.25877998]\n",
      " [0.66252228]\n",
      " [0.31171108]\n",
      " [0.52006802]\n",
      " [0.54671028]\n",
      " [0.18485446]\n",
      " [0.96958463]\n",
      " [0.77513282]\n",
      " [0.93949894]\n",
      " [0.89482735]\n",
      " [0.59789998]\n",
      " [0.92187424]\n",
      " [0.0884925 ]\n",
      " [0.19598286]\n",
      " [0.04522729]\n",
      " [0.32533033]\n",
      " [0.38867729]\n",
      " [0.27134903]\n",
      " [0.82873751]\n",
      " [0.35675333]\n",
      " [0.28093451]\n",
      " [0.54269608]\n",
      " [0.14092422]\n",
      " [0.80219698]\n",
      " [0.07455064]\n",
      " [0.98688694]\n",
      " [0.77224477]\n",
      " [0.19871568]\n",
      " [0.00552212]\n",
      " [0.81546143]\n",
      " [0.70685734]\n",
      " [0.72900717]\n",
      " [0.77127035]\n",
      " [0.07404465]\n",
      " [0.35846573]\n",
      " [0.11586906]\n",
      " [0.86310343]\n",
      " [0.62329813]\n",
      " [0.33089802]\n",
      " [0.06355835]\n",
      " [0.31098232]\n",
      " [0.32518332]\n",
      " [0.72960618]\n",
      " [0.63755747]\n",
      " [0.88721274]\n",
      " [0.47221493]\n",
      " [0.11959425]\n",
      " [0.71324479]\n",
      " [0.76078505]\n",
      " [0.5612772 ]\n",
      " [0.77096718]\n",
      " [0.4937956 ]\n",
      " [0.52273283]\n",
      " [0.42754102]\n",
      " [0.02541913]\n",
      " [0.10789143]]\n"
     ]
    }
   ],
   "source": [
    "np.random.seed(42)\n",
    "x=np.random.rand(100,1)\n",
    "print(x)"
   ]
  },
  {
   "cell_type": "code",
   "execution_count": 35,
   "metadata": {},
   "outputs": [
    {
     "name": "stdout",
     "output_type": "stream",
     "text": [
      "[[5.63496276]\n",
      " [7.35365921]\n",
      " [6.994277  ]\n",
      " [6.44593938]\n",
      " [5.1700228 ]\n",
      " [5.26377623]\n",
      " [5.06425618]\n",
      " [6.93652359]\n",
      " [6.17892799]\n",
      " [6.21819967]\n",
      " [4.64003362]\n",
      " [6.94567183]\n",
      " [6.96292594]\n",
      " [5.17966197]\n",
      " [4.83201615]\n",
      " [5.14104679]\n",
      " [4.94322698]\n",
      " [5.61161748]\n",
      " [6.11843562]\n",
      " [5.23387806]\n",
      " [5.9626192 ]\n",
      " [4.94072484]\n",
      " [5.6464275 ]\n",
      " [5.31490656]\n",
      " [5.99110043]\n",
      " [6.44087535]\n",
      " [4.65070307]\n",
      " [6.07405795]\n",
      " [6.31787883]\n",
      " [4.77678114]\n",
      " [6.54872589]\n",
      " [5.48742445]\n",
      " [4.71145513]\n",
      " [7.16961308]\n",
      " [7.69208229]\n",
      " [6.6960243 ]\n",
      " [5.35281273]\n",
      " [4.37147272]\n",
      " [6.07804982]\n",
      " [6.2831059 ]\n",
      " [5.20209483]\n",
      " [6.18150494]\n",
      " [4.51211851]\n",
      " [6.90125553]\n",
      " [4.93277699]\n",
      " [6.23780975]\n",
      " [5.48435989]\n",
      " [6.27479999]\n",
      " [6.30032821]\n",
      " [4.83449726]\n",
      " [7.86361916]\n",
      " [7.06329539]\n",
      " [7.37285088]\n",
      " [7.2962028 ]\n",
      " [6.2133    ]\n",
      " [7.01335369]\n",
      " [4.62145018]\n",
      " [5.3457947 ]\n",
      " [4.15007536]\n",
      " [5.09206363]\n",
      " [5.21203451]\n",
      " [4.8547759 ]\n",
      " [7.34167311]\n",
      " [5.77391784]\n",
      " [5.31697736]\n",
      " [5.72592241]\n",
      " [4.91438855]\n",
      " [6.88006271]\n",
      " [4.3968538 ]\n",
      " [7.39451246]\n",
      " [6.71523904]\n",
      " [5.21199714]\n",
      " [4.65166   ]\n",
      " [6.4916883 ]\n",
      " [6.49518465]\n",
      " [6.81288142]\n",
      " [6.8169473 ]\n",
      " [5.0786238 ]\n",
      " [5.73409082]\n",
      " [4.51054161]\n",
      " [6.65987903]\n",
      " [6.51231366]\n",
      " [5.01920539]\n",
      " [4.77645063]\n",
      " [5.87317721]\n",
      " [5.55102414]\n",
      " [6.57698846]\n",
      " [6.55596063]\n",
      " [7.11989112]\n",
      " [5.96226156]\n",
      " [5.30024755]\n",
      " [6.525837  ]\n",
      " [7.24354571]\n",
      " [6.58918223]\n",
      " [6.50869267]\n",
      " [5.55074809]\n",
      " [5.66897649]\n",
      " [5.30084488]\n",
      " [4.17070034]\n",
      " [5.00668105]]\n"
     ]
    }
   ],
   "source": [
    "y=4+3*x+np.random.rand(100,1)\n",
    "print(y)"
   ]
  },
  {
   "cell_type": "code",
   "execution_count": 36,
   "metadata": {},
   "outputs": [],
   "source": [
    "xtrain,xtest,ytrain,ytest=train_test_split(x,y,test_size=0.2,random_state=42)"
   ]
  },
  {
   "cell_type": "code",
   "execution_count": 39,
   "metadata": {},
   "outputs": [],
   "source": [
    "model=linear_model.LinearRegression()"
   ]
  },
  {
   "cell_type": "code",
   "execution_count": 40,
   "metadata": {},
   "outputs": [
    {
     "data": {
      "text/html": [
       "<style>#sk-container-id-4 {color: black;}#sk-container-id-4 pre{padding: 0;}#sk-container-id-4 div.sk-toggleable {background-color: white;}#sk-container-id-4 label.sk-toggleable__label {cursor: pointer;display: block;width: 100%;margin-bottom: 0;padding: 0.3em;box-sizing: border-box;text-align: center;}#sk-container-id-4 label.sk-toggleable__label-arrow:before {content: \"▸\";float: left;margin-right: 0.25em;color: #696969;}#sk-container-id-4 label.sk-toggleable__label-arrow:hover:before {color: black;}#sk-container-id-4 div.sk-estimator:hover label.sk-toggleable__label-arrow:before {color: black;}#sk-container-id-4 div.sk-toggleable__content {max-height: 0;max-width: 0;overflow: hidden;text-align: left;background-color: #f0f8ff;}#sk-container-id-4 div.sk-toggleable__content pre {margin: 0.2em;color: black;border-radius: 0.25em;background-color: #f0f8ff;}#sk-container-id-4 input.sk-toggleable__control:checked~div.sk-toggleable__content {max-height: 200px;max-width: 100%;overflow: auto;}#sk-container-id-4 input.sk-toggleable__control:checked~label.sk-toggleable__label-arrow:before {content: \"▾\";}#sk-container-id-4 div.sk-estimator input.sk-toggleable__control:checked~label.sk-toggleable__label {background-color: #d4ebff;}#sk-container-id-4 div.sk-label input.sk-toggleable__control:checked~label.sk-toggleable__label {background-color: #d4ebff;}#sk-container-id-4 input.sk-hidden--visually {border: 0;clip: rect(1px 1px 1px 1px);clip: rect(1px, 1px, 1px, 1px);height: 1px;margin: -1px;overflow: hidden;padding: 0;position: absolute;width: 1px;}#sk-container-id-4 div.sk-estimator {font-family: monospace;background-color: #f0f8ff;border: 1px dotted black;border-radius: 0.25em;box-sizing: border-box;margin-bottom: 0.5em;}#sk-container-id-4 div.sk-estimator:hover {background-color: #d4ebff;}#sk-container-id-4 div.sk-parallel-item::after {content: \"\";width: 100%;border-bottom: 1px solid gray;flex-grow: 1;}#sk-container-id-4 div.sk-label:hover label.sk-toggleable__label {background-color: #d4ebff;}#sk-container-id-4 div.sk-serial::before {content: \"\";position: absolute;border-left: 1px solid gray;box-sizing: border-box;top: 0;bottom: 0;left: 50%;z-index: 0;}#sk-container-id-4 div.sk-serial {display: flex;flex-direction: column;align-items: center;background-color: white;padding-right: 0.2em;padding-left: 0.2em;position: relative;}#sk-container-id-4 div.sk-item {position: relative;z-index: 1;}#sk-container-id-4 div.sk-parallel {display: flex;align-items: stretch;justify-content: center;background-color: white;position: relative;}#sk-container-id-4 div.sk-item::before, #sk-container-id-4 div.sk-parallel-item::before {content: \"\";position: absolute;border-left: 1px solid gray;box-sizing: border-box;top: 0;bottom: 0;left: 50%;z-index: -1;}#sk-container-id-4 div.sk-parallel-item {display: flex;flex-direction: column;z-index: 1;position: relative;background-color: white;}#sk-container-id-4 div.sk-parallel-item:first-child::after {align-self: flex-end;width: 50%;}#sk-container-id-4 div.sk-parallel-item:last-child::after {align-self: flex-start;width: 50%;}#sk-container-id-4 div.sk-parallel-item:only-child::after {width: 0;}#sk-container-id-4 div.sk-dashed-wrapped {border: 1px dashed gray;margin: 0 0.4em 0.5em 0.4em;box-sizing: border-box;padding-bottom: 0.4em;background-color: white;}#sk-container-id-4 div.sk-label label {font-family: monospace;font-weight: bold;display: inline-block;line-height: 1.2em;}#sk-container-id-4 div.sk-label-container {text-align: center;}#sk-container-id-4 div.sk-container {/* jupyter's `normalize.less` sets `[hidden] { display: none; }` but bootstrap.min.css set `[hidden] { display: none !important; }` so we also need the `!important` here to be able to override the default hidden behavior on the sphinx rendered scikit-learn.org. See: https://github.com/scikit-learn/scikit-learn/issues/21755 */display: inline-block !important;position: relative;}#sk-container-id-4 div.sk-text-repr-fallback {display: none;}</style><div id=\"sk-container-id-4\" class=\"sk-top-container\"><div class=\"sk-text-repr-fallback\"><pre>LinearRegression()</pre><b>In a Jupyter environment, please rerun this cell to show the HTML representation or trust the notebook. <br />On GitHub, the HTML representation is unable to render, please try loading this page with nbviewer.org.</b></div><div class=\"sk-container\" hidden><div class=\"sk-item\"><div class=\"sk-estimator sk-toggleable\"><input class=\"sk-toggleable__control sk-hidden--visually\" id=\"sk-estimator-id-4\" type=\"checkbox\" checked><label for=\"sk-estimator-id-4\" class=\"sk-toggleable__label sk-toggleable__label-arrow\">LinearRegression</label><div class=\"sk-toggleable__content\"><pre>LinearRegression()</pre></div></div></div></div></div>"
      ],
      "text/plain": [
       "LinearRegression()"
      ]
     },
     "execution_count": 40,
     "metadata": {},
     "output_type": "execute_result"
    }
   ],
   "source": [
    "model.fit(xtrain,ytrain)"
   ]
  },
  {
   "cell_type": "code",
   "execution_count": 41,
   "metadata": {},
   "outputs": [],
   "source": [
    "test=model.predict(xtest)"
   ]
  },
  {
   "cell_type": "code",
   "execution_count": 42,
   "metadata": {},
   "outputs": [
    {
     "name": "stdout",
     "output_type": "stream",
     "text": [
      "r2_score : 0.8898759975941855\n",
      "mean squared error : 0.10091994747367558\n"
     ]
    }
   ],
   "source": [
    "print(\"r2_score :\",r2_score(test,ytest))\n",
    "print(\"mean squared error :\",mean_squared_error(test,ytest))"
   ]
  },
  {
   "cell_type": "code",
   "execution_count": 43,
   "metadata": {},
   "outputs": [
    {
     "data": {
      "image/png": "[encoded data removed]",
      "text/plain": [
       "<Figure size 640x480 with 1 Axes>"
      ]
     },
     "metadata": {},
     "output_type": "display_data"
    }
   ],
   "source": [
    "plt.scatter(x,y)\n",
    "plt.plot(xtest,test,color='blue')\n",
    "plt.show()"
   ]
  },
  {
   "cell_type": "code",
   "execution_count": 44,
   "metadata": {},
   "outputs": [],
   "source": [
    "l1=[]\n",
    "l2=[]\n",
    "l1.append(float(input(\"enter value\")))\n",
    "l2.append(l1)\n"
   ]
  },
  {
   "cell_type": "code",
   "execution_count": 45,
   "metadata": {},
   "outputs": [
    {
     "name": "stdout",
     "output_type": "stream",
     "text": [
      "[[5.5537517]]\n"
     ]
    }
   ],
   "source": [
    "res=model.predict(l2)\n",
    "print(res)"
   ]
  },
  {
   "cell_type": "code",
   "execution_count": null,
   "metadata": {},
   "outputs": [],
   "source": []
  }
 ],
 "metadata": {
  "kernelspec": {
   "display_name": "Python 3",
   "language": "python",
   "name": "python3"
  },
  "language_info": {
   "codemirror_mode": {
    "name": "ipython",
    "version": 3
   },
   "file_extension": ".py",
   "mimetype": "text/x-python",
   "name": "python",
   "nbconvert_exporter": "python",
   "pygments_lexer": "ipython3",
   "version": "3.10.11"
  }
 },
 "nbformat": 4,
 "nbformat_minor": 2
}
