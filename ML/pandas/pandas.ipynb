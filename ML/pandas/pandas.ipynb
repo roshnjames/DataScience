{
 "cells": [
  {
   "cell_type": "code",
   "execution_count": 56,
   "metadata": {},
   "outputs": [],
   "source": [
    "import pandas as pd\n",
    "import numpy as np"
   ]
  },
  {
   "cell_type": "code",
   "execution_count": 6,
   "metadata": {},
   "outputs": [
    {
     "name": "stdout",
     "output_type": "stream",
     "text": [
      "<class 'pandas.core.series.Series'> \n",
      " 0    1\n",
      "1    2\n",
      "2    3\n",
      "3    4\n",
      "4    5\n",
      "dtype: int64\n"
     ]
    }
   ],
   "source": [
    "l=[1,2,3,4,5]\n",
    "s=pd.Series(l)\n",
    "print(type(s),\"\\n\",s)"
   ]
  },
  {
   "cell_type": "code",
   "execution_count": 10,
   "metadata": {},
   "outputs": [
    {
     "name": "stdout",
     "output_type": "stream",
     "text": [
      "DatetimeIndex(['2021-05-01', '2021-05-02', '2021-05-03', '2021-05-04',\n",
      "               '2021-05-05', '2021-05-06', '2021-05-07', '2021-05-08',\n",
      "               '2021-05-09', '2021-05-10',\n",
      "               ...\n",
      "               '2021-11-26', '2021-11-27', '2021-11-28', '2021-11-29',\n",
      "               '2021-11-30', '2021-12-01', '2021-12-02', '2021-12-03',\n",
      "               '2021-12-04', '2021-12-05'],\n",
      "              dtype='datetime64[ns]', length=219, freq='D')\n"
     ]
    }
   ],
   "source": [
    "dates=pd.date_range(start='2021-5-1',end='2021-12-5')\n",
    "print(dates)"
   ]
  },
  {
   "cell_type": "code",
   "execution_count": 42,
   "metadata": {},
   "outputs": [
    {
     "name": "stdout",
     "output_type": "stream",
     "text": [
      "   r  o  s\n",
      "0  1  2  3\n",
      "1  2  3  4\n",
      "2  3  4  5\n"
     ]
    }
   ],
   "source": [
    "dict={'r':[1,2,3],'o':[2,3,4],'s':[3,4,5]}\n",
    "df=pd.DataFrame(dict)\n",
    "print(df)"
   ]
  },
  {
   "cell_type": "code",
   "execution_count": 23,
   "metadata": {},
   "outputs": [
    {
     "name": "stdout",
     "output_type": "stream",
     "text": [
      "   r  o  s  h  i  n\n",
      "0  1  2  3  4  5  6\n"
     ]
    }
   ],
   "source": [
    "print(df.head(1))"
   ]
  },
  {
   "cell_type": "code",
   "execution_count": 24,
   "metadata": {},
   "outputs": [],
   "source": [
    "l=[[1,2,3],\n",
    "   [2,3,4]]"
   ]
  },
  {
   "cell_type": "code",
   "execution_count": 26,
   "metadata": {},
   "outputs": [
    {
     "name": "stdout",
     "output_type": "stream",
     "text": [
      "   0  1  2\n",
      "0  1  2  3\n",
      "1  2  3  4\n"
     ]
    }
   ],
   "source": [
    "df1=pd.DataFrame(l)\n",
    "print(df1)"
   ]
  },
  {
   "cell_type": "code",
   "execution_count": 27,
   "metadata": {},
   "outputs": [
    {
     "name": "stdout",
     "output_type": "stream",
     "text": [
      "   age  height\n",
      "0   21     133\n",
      "1   22     144\n",
      "2   22     143\n",
      "3   23     156\n"
     ]
    }
   ],
   "source": [
    "l=[[21,133],[22,144],[22,143],[23,156]]\n",
    "print(pd.DataFrame(l,columns=['age','height']))"
   ]
  },
  {
   "cell_type": "code",
   "execution_count": 39,
   "metadata": {},
   "outputs": [
    {
     "name": "stdout",
     "output_type": "stream",
     "text": [
      "        country  medal\n",
      "0         india      1\n",
      "1           usa     10\n",
      "2         china      2\n",
      "3        russia      7\n",
      "4         japan     12\n",
      "5       austria      0\n",
      "6     venezuela      0\n",
      "7       hungary      0\n",
      "8         spain      3\n",
      "9         italy      4\n",
      "10      ireland      2\n",
      "11      england      7\n",
      "12       brazil      9\n",
      "13  south korea     10\n"
     ]
    }
   ],
   "source": [
    "data=pd.read_csv(r'C:\\roshin\\sems\\sem3\\ds_lab\\final_xam\\matplotlib\\medal.csv')\n",
    "print(data)"
   ]
  },
  {
   "cell_type": "code",
   "execution_count": 47,
   "metadata": {},
   "outputs": [
    {
     "name": "stdout",
     "output_type": "stream",
     "text": [
      "        country  medal\n",
      "5       austria      0\n",
      "7       hungary      0\n",
      "6     venezuela      0\n",
      "0         india      1\n",
      "2         china      2\n",
      "10      ireland      2\n",
      "8         spain      3\n",
      "9         italy      4\n",
      "11      england      7\n",
      "3        russia      7\n",
      "12       brazil      9\n",
      "13  south korea     10\n",
      "1           usa     10\n",
      "4         japan     12\n"
     ]
    }
   ],
   "source": [
    "dt=data.sort_values(by=['medal','country'])\n",
    "print(dt)"
   ]
  },
  {
   "cell_type": "code",
   "execution_count": 35,
   "metadata": {},
   "outputs": [
    {
     "name": "stdout",
     "output_type": "stream",
     "text": [
      "     country  medal\n",
      "5    austria      0\n",
      "6  venezuela      0\n"
     ]
    }
   ],
   "source": [
    "print(dt.head(2))"
   ]
  },
  {
   "cell_type": "code",
   "execution_count": 43,
   "metadata": {},
   "outputs": [
    {
     "name": "stdout",
     "output_type": "stream",
     "text": [
      "Empty DataFrame\n",
      "Columns: [a, b, c]\n",
      "Index: []\n"
     ]
    }
   ],
   "source": [
    "custom=['a','b','c']\n",
    "\n",
    "dt=pd.DataFrame(dict,columns=custom)\n",
    "print(dt)"
   ]
  },
  {
   "cell_type": "code",
   "execution_count": 50,
   "metadata": {},
   "outputs": [],
   "source": [
    "dict1={'name':['roshin','james','robin','annie'],\n",
    "      'job':['jobless','farmer','jobless','house wife'],\n",
    "      'salary':[1000,10000,1000,500]}"
   ]
  },
  {
   "cell_type": "code",
   "execution_count": 51,
   "metadata": {},
   "outputs": [],
   "source": [
    "data=pd.DataFrame(dict1)"
   ]
  },
  {
   "cell_type": "code",
   "execution_count": 54,
   "metadata": {},
   "outputs": [
    {
     "name": "stdout",
     "output_type": "stream",
     "text": [
      "avg salary per occupation is  :             salary\n",
      "job               \n",
      "farmer       10000\n",
      "house wife     500\n",
      "jobless       2000\n"
     ]
    }
   ],
   "source": [
    "print(\"avg salary per occupation is  :\",data.groupby('job').sum('salary'))"
   ]
  },
  {
   "cell_type": "code",
   "execution_count": 57,
   "metadata": {},
   "outputs": [
    {
     "name": "stdout",
     "output_type": "stream",
     "text": [
      "nan\n"
     ]
    }
   ],
   "source": [
    "print(np.nan)"
   ]
  },
  {
   "cell_type": "code",
   "execution_count": 58,
   "metadata": {},
   "outputs": [],
   "source": [
    "dict1={'name':['roshin','james','robin','annie'],\n",
    "      'job':['jobless','farmer','jobless','house wife'],\n",
    "      'salary':[1000,10000,1000,np.nan]}"
   ]
  },
  {
   "cell_type": "code",
   "execution_count": 69,
   "metadata": {},
   "outputs": [
    {
     "name": "stdout",
     "output_type": "stream",
     "text": [
      "     name         job   salary\n",
      "0  roshin     jobless   1000.0\n",
      "1   james      farmer  10000.0\n",
      "2   robin     jobless   1000.0\n",
      "3   annie  house wife      NaN\n"
     ]
    }
   ],
   "source": [
    "df=pd.DataFrame(dict1)\n",
    "print(df)"
   ]
  },
  {
   "cell_type": "code",
   "execution_count": 70,
   "metadata": {},
   "outputs": [
    {
     "name": "stdout",
     "output_type": "stream",
     "text": [
      "     name         job   salary\n",
      "0  roshin     jobless   1000.0\n",
      "1   james      farmer  10000.0\n",
      "2   robin     jobless   1000.0\n",
      "3   annie  house wife      0.0\n"
     ]
    }
   ],
   "source": [
    "d=df.fillna(0)\n",
    "print(d)"
   ]
  },
  {
   "cell_type": "code",
   "execution_count": 71,
   "metadata": {},
   "outputs": [
    {
     "name": "stdout",
     "output_type": "stream",
     "text": [
      "  company  profit\n",
      "0     ibm      10\n",
      "1   elxsi       2\n",
      "2     tcs      -3\n",
      "3     ust       0\n"
     ]
    }
   ],
   "source": [
    "comp={\n",
    "    'company':['ibm','elxsi','tcs','ust'],\n",
    "    'profit':[10,2,-3,0]\n",
    "}\n",
    "df=pd.DataFrame(comp)\n",
    "print(df)"
   ]
  },
  {
   "cell_type": "code",
   "execution_count": 73,
   "metadata": {},
   "outputs": [
    {
     "name": "stdout",
     "output_type": "stream",
     "text": [
      "  company  profit\n",
      "0     ibm    True\n",
      "1   elxsi    True\n",
      "2     tcs   False\n",
      "3     ust   False\n"
     ]
    }
   ],
   "source": [
    "df['profit']=np.where(df['profit']>0,True,False)\n",
    "print(df)"
   ]
  },
  {
   "cell_type": "code",
   "execution_count": 74,
   "metadata": {},
   "outputs": [],
   "source": [
    "employee_data = {\n",
    "'eid': [101, 102, 103, 104, 105],\n",
    "'ename': ['Rijfas', 'Rifana', 'Aflah', 'Suhail', 'Shammas'],\n",
    "'stipend': [600, 700, 800, 900, 750]\n",
    "}\n",
    "designation_data = {\n",
    "'eid': [101, 103, 104, 105],\n",
    "'Designation': ['Engineer', 'Teacher', 'Lawyer', 'Artist']\n",
    "}\n",
    "df1=pd.DataFrame(employee_data)\n",
    "df2=pd.DataFrame(designation_data)"
   ]
  },
  {
   "cell_type": "code",
   "execution_count": 76,
   "metadata": {},
   "outputs": [
    {
     "name": "stdout",
     "output_type": "stream",
     "text": [
      "   eid    ename  stipend Designation\n",
      "0  101   Rijfas      600    Engineer\n",
      "1  103    Aflah      800     Teacher\n",
      "2  104   Suhail      900      Lawyer\n",
      "3  105  Shammas      750      Artist\n"
     ]
    }
   ],
   "source": [
    "df3=df1.merge(df2,on='eid')\n",
    "print(df3)"
   ]
  },
  {
   "cell_type": "code",
   "execution_count": null,
   "metadata": {},
   "outputs": [],
   "source": []
  }
 ],
 "metadata": {
  "kernelspec": {
   "display_name": "Python 3",
   "language": "python",
   "name": "python3"
  },
  "language_info": {
   "codemirror_mode": {
    "name": "ipython",
    "version": 3
   },
   "file_extension": ".py",
   "mimetype": "text/x-python",
   "name": "python",
   "nbconvert_exporter": "python",
   "pygments_lexer": "ipython3",
   "version": "3.10.11"
  }
 },
 "nbformat": 4,
 "nbformat_minor": 2
}
